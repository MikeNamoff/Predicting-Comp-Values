{
 "cells": [
  {
   "cell_type": "code",
   "execution_count": 1,
   "metadata": {
    "collapsed": true
   },
   "outputs": [],
   "source": [
    "import pandas as pd\n",
    "from pandasql import *\n",
    "pysqldf = lambda q: sqldf(q, globals())"
   ]
  },
  {
   "cell_type": "code",
   "execution_count": 2,
   "metadata": {},
   "outputs": [],
   "source": [
    "df = pd.read_pickle(\"/home/mnamoff/masterlist.pkl\")"
   ]
  },
  {
   "cell_type": "code",
   "execution_count": 3,
   "metadata": {
    "collapsed": true
   },
   "outputs": [],
   "source": [
    "q = \"\"\"\n",
    "\n",
    "SELECT storeid, drivethru, (CASE WHEN loctype = 'Suburb Residential' THEN 1 ELSE 0 END) AS suburb_residential,\n",
    "(CASE WHEN loctype = 'Small Town' THEN 1 ELSE 0 END) AS Small_town,\n",
    "(CASE WHEN loctype = 'Campus' THEN 1 ELSE 0 END) AS campus,\n",
    "(CASE WHEN loctype = 'Military Base' THEN 1 ELSE 0 END) AS military_base,\n",
    "(CASE WHEN loctype = 'Suburb Industrial' THEN 1 ELSE 0 END) AS suburb_industrial,\n",
    "(CASE WHEN loctype = 'Downtown' THEN 1 ELSE 0 END) AS downtown,\n",
    "(CASE WHEN designtype = 'Classy Casual' THEN 1 ELSE 0 END) AS classy_casual_design,\n",
    "(CASE WHEN designtype = '210' THEN 1 ELSE 0 END) AS design_210,\n",
    "(CASE WHEN designtype = 'Black and White' THEN 1 ELSE 0 END) AS black_and_white_design,\n",
    "(CASE WHEN designtype = 'Factory' THEN 1 ELSE 0 END) AS factory_design,\n",
    "(CASE WHEN designtype = '210 EVO' THEN 1 ELSE 0 END) AS evo_210_design,\n",
    "(CASE WHEN designtype = 'None' THEN 1 ELSE 0 END) AS none_design\n",
    "FROM df\n",
    "\n",
    "\"\"\"\n"
   ]
  },
  {
   "cell_type": "code",
   "execution_count": 4,
   "metadata": {
    "collapsed": true
   },
   "outputs": [],
   "source": [
    "df = pysqldf(q)"
   ]
  },
  {
   "cell_type": "code",
   "execution_count": 5,
   "metadata": {
    "collapsed": true
   },
   "outputs": [],
   "source": [
    "df.to_pickle(\"loctype_drivetru_design_regression.pkl\")"
   ]
  },
  {
   "cell_type": "code",
   "execution_count": null,
   "metadata": {
    "collapsed": true
   },
   "outputs": [],
   "source": []
  }
 ],
 "metadata": {
  "kernelspec": {
   "display_name": "Python 3",
   "language": "python",
   "name": "python3"
  },
  "language_info": {
   "codemirror_mode": {
    "name": "ipython",
    "version": 3
   },
   "file_extension": ".py",
   "mimetype": "text/x-python",
   "name": "python",
   "nbconvert_exporter": "python",
   "pygments_lexer": "ipython3",
   "version": "3.6.3"
  }
 },
 "nbformat": 4,
 "nbformat_minor": 2
}
