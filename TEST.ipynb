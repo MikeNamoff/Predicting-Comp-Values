{
 "cells": [
  {
   "cell_type": "code",
   "execution_count": 1,
   "metadata": {
    "collapsed": true
   },
   "outputs": [],
   "source": [
    "import pandas as pd"
   ]
  },
  {
   "cell_type": "code",
   "execution_count": 2,
   "metadata": {
    "collapsed": true
   },
   "outputs": [],
   "source": [
    "master = pd.read_pickle(\"/home/mnamoff/Regression Model/masterstore.pkl\")"
   ]
  },
  {
   "cell_type": "code",
   "execution_count": 3,
   "metadata": {
    "collapsed": true
   },
   "outputs": [],
   "source": [
    "comp = pd.read_pickle(\"/home/mnamoff/Regression Model/comps_regression_model.pkl\")"
   ]
  },
  {
   "cell_type": "code",
   "execution_count": 4,
   "metadata": {
    "collapsed": true
   },
   "outputs": [],
   "source": [
    "subway = pd.read_pickle(\"/home/mnamoff/Regression Model/subway_per_squaremile_regression.pkl\")"
   ]
  },
  {
   "cell_type": "code",
   "execution_count": 5,
   "metadata": {
    "collapsed": true
   },
   "outputs": [],
   "source": [
    "jj = pd.read_pickle(\"/home/mnamoff/Regression Model/stores_per_squaremile_regression.pkl\")"
   ]
  },
  {
   "cell_type": "code",
   "execution_count": 6,
   "metadata": {
    "collapsed": true
   },
   "outputs": [],
   "source": [
    "minimnum_wage = pd.read_pickle(\"/home/mnamoff/Regression Model/mw_regression.pkl\")"
   ]
  },
  {
   "cell_type": "code",
   "execution_count": 7,
   "metadata": {
    "collapsed": true
   },
   "outputs": [],
   "source": [
    "store_age = pd.read_pickle(\"/home/mnamoff/Regression Model/age_regression.pkl\")"
   ]
  },
  {
   "cell_type": "code",
   "execution_count": 8,
   "metadata": {
    "collapsed": true
   },
   "outputs": [],
   "source": [
    "population = pd.read_pickle(\"/home/mnamoff/Regression Model/population_regression.pkl\")"
   ]
  },
  {
   "cell_type": "code",
   "execution_count": 9,
   "metadata": {
    "collapsed": true
   },
   "outputs": [],
   "source": [
    "sandwich_price_change = pd.read_pickle(\"/home/mnamoff/Regression Model/sandwich_price_change_regression.pkl\")"
   ]
  },
  {
   "cell_type": "code",
   "execution_count": 10,
   "metadata": {
    "collapsed": true
   },
   "outputs": [],
   "source": [
    "transactions = pd.read_pickle(\"/home/mnamoff/Regression Model/trans_regression.pkl\")"
   ]
  },
  {
   "cell_type": "code",
   "execution_count": 11,
   "metadata": {
    "collapsed": true
   },
   "outputs": [],
   "source": [
    "unemployment = pd.read_pickle(\"/home/mnamoff/Regression Model/unemployment_regression.pkl\")"
   ]
  },
  {
   "cell_type": "code",
   "execution_count": 12,
   "metadata": {},
   "outputs": [],
   "source": [
    "sample = pd.read_pickle(\"/home/mnamoff/Regression Model/sample_regression.pkl\")"
   ]
  },
  {
   "cell_type": "code",
   "execution_count": 13,
   "metadata": {
    "collapsed": true
   },
   "outputs": [],
   "source": [
    "avg_delivery_cost = pd.read_pickle(\"/home/mnamoff/Regression Model/avg_delivery_cost_regression.pkl\")"
   ]
  },
  {
   "cell_type": "code",
   "execution_count": 14,
   "metadata": {
    "collapsed": true
   },
   "outputs": [],
   "source": [
    "loctype_drivethru_design = pd.read_pickle(\"/home/mnamoff/Regression Model/loctype_drivetru_design_regression.pkl\")"
   ]
  },
  {
   "cell_type": "code",
   "execution_count": 15,
   "metadata": {},
   "outputs": [],
   "source": [
    "result = master.merge(comp, on='storeid', how='left').merge(subway, on='storeid', how='left').merge(jj, on='storeid', how='left').merge(minimnum_wage, on='storeid', how='left').merge(store_age, on='storenumber', how='left').merge(population, on='storeid', how='left').merge(sandwich_price_change, on='storeid', how='left').merge(transactions, on='storeid', how='left').merge(unemployment, on='storeid', how='left').merge(sample, on='storeid', how='left').merge(avg_delivery_cost, on='storeid', how='left').merge(loctype_drivethru_design, on='storeid', how='left')"
   ]
  },
  {
   "cell_type": "code",
   "execution_count": 16,
   "metadata": {
    "collapsed": true
   },
   "outputs": [],
   "source": [
    "result = result[pd.notnull(result['sales_comp'])]"
   ]
  },
  {
   "cell_type": "code",
   "execution_count": 17,
   "metadata": {
    "collapsed": true
   },
   "outputs": [],
   "source": [
    "result = result[pd.notnull(result['population_by_zip'])]"
   ]
  },
  {
   "cell_type": "code",
   "execution_count": 18,
   "metadata": {
    "collapsed": true
   },
   "outputs": [],
   "source": [
    "result['sample'] = result['sample'].fillna(0)"
   ]
  },
  {
   "cell_type": "code",
   "execution_count": 19,
   "metadata": {
    "collapsed": true
   },
   "outputs": [],
   "source": [
    "result['avg_delivery_fee'] = result['avg_delivery_fee'].fillna(0)"
   ]
  },
  {
   "cell_type": "code",
   "execution_count": 20,
   "metadata": {},
   "outputs": [
    {
     "data": {
      "text/plain": [
       "storeid                   0\n",
       "storenumber               0\n",
       "sales_comp                0\n",
       "subway_per_sm             0\n",
       "jimmy_johns_per_sm        0\n",
       "minimum_wage              0\n",
       "age                       0\n",
       "population_by_zip         0\n",
       "percent_diff_sando        0\n",
       "trans                     0\n",
       "unemployment_rate         0\n",
       "sample                    0\n",
       "avg_delivery_fee          0\n",
       "drivethru                 0\n",
       "suburb_residential        0\n",
       "Small_town                0\n",
       "campus                    0\n",
       "military_base             0\n",
       "suburb_industrial         0\n",
       "downtown                  0\n",
       "classy_casual_design      0\n",
       "design_210                0\n",
       "black_and_white_design    0\n",
       "factory_design            0\n",
       "evo_210_design            0\n",
       "none_design               0\n",
       "dtype: int64"
      ]
     },
     "execution_count": 20,
     "metadata": {},
     "output_type": "execute_result"
    }
   ],
   "source": [
    "result.isnull().sum(axis = 0)"
   ]
  },
  {
   "cell_type": "code",
   "execution_count": 21,
   "metadata": {
    "collapsed": true
   },
   "outputs": [],
   "source": [
    "result.to_excel('Regression.xlsx', index = False)"
   ]
  }
 ],
 "metadata": {
  "kernelspec": {
   "display_name": "Python 3",
   "language": "python",
   "name": "python3"
  },
  "language_info": {
   "codemirror_mode": {
    "name": "ipython",
    "version": 3
   },
   "file_extension": ".py",
   "mimetype": "text/x-python",
   "name": "python",
   "nbconvert_exporter": "python",
   "pygments_lexer": "ipython3",
   "version": "3.6.3"
  }
 },
 "nbformat": 4,
 "nbformat_minor": 2
}
