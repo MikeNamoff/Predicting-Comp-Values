{
 "cells": [
  {
   "cell_type": "code",
   "execution_count": 1,
   "metadata": {
    "collapsed": true
   },
   "outputs": [],
   "source": [
    "import pandas as pd\n",
    "from pandasql import *\n",
    "pysqldf = lambda q: sqldf(q, globals())"
   ]
  },
  {
   "cell_type": "code",
   "execution_count": 2,
   "metadata": {
    "collapsed": true
   },
   "outputs": [],
   "source": [
    "df = pd.read_pickle(\"/home/mnamoff/masterlist.pkl\")"
   ]
  },
  {
   "cell_type": "code",
   "execution_count": 3,
   "metadata": {
    "collapsed": true
   },
   "outputs": [],
   "source": [
    "q = \"\"\"\n",
    "\n",
    "SELECT storeid, (CASE WHEN state = 'AL' THEN 1 ELSE 0 END) AS 'Alabama',\n",
    "(CASE WHEN state = 'AK' THEN 1 ELSE 0 END) AS 'Alaska',\n",
    "(CASE WHEN state = 'AZ' THEN 1 ELSE 0 END) AS 'Arizona',\n",
    "(CASE WHEN state = 'AR' THEN 1 ELSE 0 END) AS 'Arkansas',\n",
    "(CASE WHEN state = 'CA' THEN 1 ELSE 0 END) AS 'California',\n",
    "(CASE WHEN state = 'CO' THEN 1 ELSE 0 END) AS 'Coloardo',\n",
    "(CASE WHEN state = 'CT' THEN 1 ELSE 0 END) AS 'Connecticut',\n",
    "(CASE WHEN state = 'DC' THEN 1 ELSE 0 END) AS 'Dist_of_columbia',\n",
    "(CASE WHEN state = 'DE' THEN 1 ELSE 0 END) AS 'Delaware',\n",
    "(CASE WHEN state = 'FL' THEN 1 ELSE 0 END) AS 'Florida',\n",
    "(CASE WHEN state = 'GA' THEN 1 ELSE 0 END) AS 'Georgia',\n",
    "(CASE WHEN state = 'HI' THEN 1 ELSE 0 END) AS 'Hawaii',\n",
    "(CASE WHEN state = 'ID' THEN 1 ELSE 0 END) AS 'Idaho',\n",
    "(CASE WHEN state = 'IL' THEN 1 ELSE 0 END) AS 'Illinois',\n",
    "(CASE WHEN state = 'IN' THEN 1 ELSE 0 END) AS 'Indiana',\n",
    "(CASE WHEN state = 'IA' THEN 1 ELSE 0 END) AS 'Iowa',\n",
    "(CASE WHEN state = 'KS' THEN 1 ELSE 0 END) AS 'Kansas',\n",
    "(CASE WHEN state = 'KY' THEN 1 ELSE 0 END) AS 'Kentucky',\n",
    "(CASE WHEN state = 'LA' THEN 1 ELSE 0 END) AS 'Louisiana',\n",
    "(CASE WHEN state = 'ME' THEN 1 ELSE 0 END) AS 'Maine',\n",
    "(CASE WHEN state = 'MD' THEN 1 ELSE 0 END) AS 'Maryland',\n",
    "(CASE WHEN state = 'MA' THEN 1 ELSE 0 END) AS 'Massachusetts',\n",
    "(CASE WHEN state = 'MI' THEN 1 ELSE 0 END) AS 'Michigan',\n",
    "(CASE WHEN state = 'MN' THEN 1 ELSE 0 END) AS 'Minnesota',\n",
    "(CASE WHEN state = 'MS' THEN 1 ELSE 0 END) AS 'Mississippi',\n",
    "(CASE WHEN state = 'MO' THEN 1 ELSE 0 END) AS 'Missouri',\n",
    "(CASE WHEN state = 'MT' THEN 1 ELSE 0 END) AS 'Montana',\n",
    "(CASE WHEN state = 'NE' THEN 1 ELSE 0 END) AS 'Nebraska',\n",
    "(CASE WHEN state = 'NV' THEN 1 ELSE 0 END) AS 'Nevada',\n",
    "(CASE WHEN state = 'NH' THEN 1 ELSE 0 END) AS 'New_hampshire',\n",
    "(CASE WHEN state = 'NJ' THEN 1 ELSE 0 END) AS 'New_jersey',\n",
    "(CASE WHEN state = 'NM' THEN 1 ELSE 0 END) AS 'New_mexico',\n",
    "(CASE WHEN state = 'NY' THEN 1 ELSE 0 END) AS 'New_york',\n",
    "(CASE WHEN state = 'NC' THEN 1 ELSE 0 END) AS 'North_carolina',\n",
    "(CASE WHEN state = 'ND' THEN 1 ELSE 0 END) AS 'North_dakota',\n",
    "(CASE WHEN state = 'OH' THEN 1 ELSE 0 END) AS 'Ohio',\n",
    "(CASE WHEN state = 'OK' THEN 1 ELSE 0 END) AS 'Oklahoma',\n",
    "(CASE WHEN state = 'OR' THEN 1 ELSE 0 END) AS 'Oregon',\n",
    "(CASE WHEN state = 'PA' THEN 1 ELSE 0 END) AS 'Pennsylvania',\n",
    "(CASE WHEN state = 'RI' THEN 1 ELSE 0 END) AS 'Rhode_island',\n",
    "(CASE WHEN state = 'SC' THEN 1 ELSE 0 END) AS 'South_dakota',\n",
    "(CASE WHEN state = 'SD' THEN 1 ELSE 0 END) AS 'Texas',\n",
    "(CASE WHEN state = 'TN' THEN 1 ELSE 0 END) AS 'Tennesse',\n",
    "(CASE WHEN state = 'TX' THEN 1 ELSE 0 END) AS 'Texas',\n",
    "(CASE WHEN state = 'UT' THEN 1 ELSE 0 END) AS 'Utah',\n",
    "(CASE WHEN state = 'VT' THEN 1 ELSE 0 END) AS 'Vermont',\n",
    "(CASE WHEN state = 'VA' THEN 1 ELSE 0 END) AS 'Virginia',\n",
    "(CASE WHEN state = 'WV' THEN 1 ELSE 0 END) AS 'West_virginia',\n",
    "(CASE WHEN state = 'WI' THEN 1 ELSE 0 END) AS 'Wisconsin',\n",
    "(CASE WHEN state = 'WY' THEN 1 ELSE 0 END) AS 'Wyoming'\n",
    "FROM df\n",
    "\n",
    "\"\"\""
   ]
  },
  {
   "cell_type": "code",
   "execution_count": 4,
   "metadata": {
    "collapsed": true
   },
   "outputs": [],
   "source": [
    "s = pysqldf(q)"
   ]
  },
  {
   "cell_type": "code",
   "execution_count": 5,
   "metadata": {
    "collapsed": true
   },
   "outputs": [],
   "source": [
    "s.to_pickle(\"state_regression.pkl\")"
   ]
  }
 ],
 "metadata": {
  "kernelspec": {
   "display_name": "Python 3",
   "language": "python",
   "name": "python3"
  },
  "language_info": {
   "codemirror_mode": {
    "name": "ipython",
    "version": 3
   },
   "file_extension": ".py",
   "mimetype": "text/x-python",
   "name": "python",
   "nbconvert_exporter": "python",
   "pygments_lexer": "ipython3",
   "version": "3.6.3"
  }
 },
 "nbformat": 4,
 "nbformat_minor": 2
}
